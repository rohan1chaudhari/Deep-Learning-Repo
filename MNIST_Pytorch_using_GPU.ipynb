{
  "nbformat": 4,
  "nbformat_minor": 0,
  "metadata": {
    "colab": {
      "name": "MNIST Pytorch using GPU.ipynb",
      "version": "0.3.2",
      "views": {},
      "default_view": {},
      "provenance": [],
      "collapsed_sections": []
    },
    "kernelspec": {
      "name": "python3",
      "display_name": "Python 3"
    },
    "accelerator": "GPU"
  },
  "cells": [
    {
      "metadata": {
        "id": "ctyiwccgZKR6",
        "colab_type": "text"
      },
      "cell_type": "markdown",
      "source": [
        "#MNIST Image classification using CNN with Batch Normalization (GPU) - 98% Accuracy"
      ]
    },
    {
      "metadata": {
        "id": "fU9yeQCnZW0S",
        "colab_type": "text"
      },
      "cell_type": "markdown",
      "source": [
        "##Importing packages and installing Pytorch"
      ]
    },
    {
      "metadata": {
        "id": "hVIaa4hxZdRV",
        "colab_type": "code",
        "colab": {
          "autoexec": {
            "startup": false,
            "wait_interval": 0
          },
          "output_extras": [
            {
              "item_id": 74
            },
            {
              "item_id": 88
            }
          ],
          "base_uri": "https://localhost:8080/",
          "height": 391
        },
        "outputId": "36333816-288c-4346-b52a-d644d82e7824",
        "executionInfo": {
          "status": "ok",
          "timestamp": 1518546220872,
          "user_tz": -60,
          "elapsed": 37147,
          "user": {
            "displayName": "Rohan Chaudhari",
            "photoUrl": "//lh6.googleusercontent.com/-bFFuvJVjYYo/AAAAAAAAAAI/AAAAAAAAK00/9-yuXaJQQBM/s50-c-k-no/photo.jpg",
            "userId": "101580298218468195397"
          }
        }
      },
      "cell_type": "code",
      "source": [
        "!pip3 install http://download.pytorch.org/whl/cu80/torch-0.3.0.post4-cp36-cp36m-linux_x86_64.whl\n",
        "!pip install torchvision"
      ],
      "execution_count": 2,
      "outputs": [
        {
          "output_type": "stream",
          "text": [
            "Collecting torch==0.3.0.post4 from http://download.pytorch.org/whl/cu80/torch-0.3.0.post4-cp36-cp36m-linux_x86_64.whl\n",
            "  Downloading http://download.pytorch.org/whl/cu80/torch-0.3.0.post4-cp36-cp36m-linux_x86_64.whl (592.3MB)\n",
            "\u001b[K    98% |███████████████████████████████▋| 584.4MB 44.7MB/s eta 0:00:01"
          ],
          "name": "stdout"
        },
        {
          "output_type": "stream",
          "text": [
            "\u001b[K    100% |████████████████████████████████| 592.3MB 40.7MB/s \n",
            "\u001b[?25hRequirement already satisfied: numpy in /usr/local/lib/python3.6/dist-packages (from torch==0.3.0.post4)\n",
            "Requirement already satisfied: pyyaml in /usr/local/lib/python3.6/dist-packages (from torch==0.3.0.post4)\n",
            "Installing collected packages: torch\n",
            "Successfully installed torch-0.3.0.post4\n",
            "Collecting torchvision\n",
            "  Downloading torchvision-0.2.0-py2.py3-none-any.whl (48kB)\n",
            "\u001b[K    100% |████████████████████████████████| 51kB 1.8MB/s \n",
            "\u001b[?25hRequirement already satisfied: torch in /usr/local/lib/python3.6/dist-packages (from torchvision)\n",
            "Requirement already satisfied: six in /usr/local/lib/python3.6/dist-packages (from torchvision)\n",
            "Collecting pillow>=4.1.1 (from torchvision)\n",
            "  Downloading Pillow-5.0.0-cp36-cp36m-manylinux1_x86_64.whl (5.9MB)\n",
            "\u001b[K    100% |████████████████████████████████| 5.9MB 234kB/s \n",
            "\u001b[?25hRequirement already satisfied: numpy in /usr/local/lib/python3.6/dist-packages (from torchvision)\n",
            "Requirement already satisfied: pyyaml in /usr/local/lib/python3.6/dist-packages (from torch->torchvision)\n",
            "Installing collected packages: pillow, torchvision\n",
            "  Found existing installation: Pillow 4.0.0\n",
            "    Uninstalling Pillow-4.0.0:\n",
            "      Successfully uninstalled Pillow-4.0.0\n",
            "Successfully installed pillow-5.0.0 torchvision-0.2.0\n"
          ],
          "name": "stdout"
        }
      ]
    },
    {
      "metadata": {
        "id": "d3uQaZcxZ2hi",
        "colab_type": "code",
        "colab": {
          "autoexec": {
            "startup": false,
            "wait_interval": 0
          }
        }
      },
      "cell_type": "code",
      "source": [
        "import torch \n",
        "import torch.nn as nn\n",
        "import torchvision.datasets as dsets\n",
        "import torchvision.transforms as transforms\n",
        "from torch.autograd import Variable"
      ],
      "execution_count": 0,
      "outputs": []
    },
    {
      "metadata": {
        "id": "QDuFo53aaZqu",
        "colab_type": "text"
      },
      "cell_type": "markdown",
      "source": [
        "## Importing Data and setting up Hyper-Parameters"
      ]
    },
    {
      "metadata": {
        "id": "5cKzayb1aby7",
        "colab_type": "code",
        "colab": {
          "autoexec": {
            "startup": false,
            "wait_interval": 0
          },
          "output_extras": [
            {
              "item_id": 4
            }
          ],
          "base_uri": "https://localhost:8080/",
          "height": 119
        },
        "outputId": "c77990ba-1188-4c4f-d84e-3176e8cb2eb6",
        "executionInfo": {
          "status": "ok",
          "timestamp": 1518546364078,
          "user_tz": -60,
          "elapsed": 28426,
          "user": {
            "displayName": "Rohan Chaudhari",
            "photoUrl": "//lh6.googleusercontent.com/-bFFuvJVjYYo/AAAAAAAAAAI/AAAAAAAAK00/9-yuXaJQQBM/s50-c-k-no/photo.jpg",
            "userId": "101580298218468195397"
          }
        }
      },
      "cell_type": "code",
      "source": [
        "num_epochs = 5\n",
        "batch_size = 100\n",
        "learning_rate = 0.001\n",
        "\n",
        "# MNIST Dataset\n",
        "train_dataset = dsets.MNIST(root='./data/',\n",
        "                            train=True, \n",
        "                            transform=transforms.ToTensor(),\n",
        "                            download=True)\n",
        "\n",
        "test_dataset = dsets.MNIST(root='./data/',\n",
        "                           train=False, \n",
        "                           transform=transforms.ToTensor())\n",
        "\n",
        "# Data Loader\n",
        "train_loader = torch.utils.data.DataLoader(dataset=train_dataset,\n",
        "                                           batch_size=batch_size, \n",
        "                                           shuffle=True)\n",
        "\n",
        "test_loader = torch.utils.data.DataLoader(dataset=test_dataset,\n",
        "                                          batch_size=batch_size, \n",
        "                                          shuffle=False)\n",
        "\n"
      ],
      "execution_count": 5,
      "outputs": [
        {
          "output_type": "stream",
          "text": [
            "Downloading http://yann.lecun.com/exdb/mnist/train-images-idx3-ubyte.gz\n",
            "Downloading http://yann.lecun.com/exdb/mnist/train-labels-idx1-ubyte.gz\n",
            "Downloading http://yann.lecun.com/exdb/mnist/t10k-images-idx3-ubyte.gz\n",
            "Downloading http://yann.lecun.com/exdb/mnist/t10k-labels-idx1-ubyte.gz\n",
            "Processing...\n",
            "Done!\n"
          ],
          "name": "stdout"
        }
      ]
    },
    {
      "metadata": {
        "id": "YLCLYClnaoA5",
        "colab_type": "text"
      },
      "cell_type": "markdown",
      "source": [
        "##CNN Model"
      ]
    },
    {
      "metadata": {
        "id": "YFQo1gTrarFS",
        "colab_type": "code",
        "colab": {
          "autoexec": {
            "startup": false,
            "wait_interval": 0
          },
          "output_extras": [
            {
              "item_id": 1
            }
          ],
          "base_uri": "https://localhost:8080/",
          "height": 272
        },
        "outputId": "7b4cc6f5-100d-4e87-dfe8-56b1bcc55252",
        "executionInfo": {
          "status": "ok",
          "timestamp": 1518546383223,
          "user_tz": -60,
          "elapsed": 2437,
          "user": {
            "displayName": "Rohan Chaudhari",
            "photoUrl": "//lh6.googleusercontent.com/-bFFuvJVjYYo/AAAAAAAAAAI/AAAAAAAAK00/9-yuXaJQQBM/s50-c-k-no/photo.jpg",
            "userId": "101580298218468195397"
          }
        }
      },
      "cell_type": "code",
      "source": [
        "class CNN(nn.Module):\n",
        "    def __init__(self):\n",
        "        super(CNN, self).__init__()\n",
        "        self.layer1 = nn.Sequential(\n",
        "            nn.Conv2d(1, 16, kernel_size=5, padding=2),\n",
        "            nn.BatchNorm2d(16),\n",
        "            nn.ReLU(),\n",
        "            nn.MaxPool2d(2))\n",
        "        self.layer2 = nn.Sequential(\n",
        "            nn.Conv2d(16, 32, kernel_size=5, padding=2),\n",
        "            nn.BatchNorm2d(32),\n",
        "            nn.ReLU(),\n",
        "            nn.MaxPool2d(2))\n",
        "        self.fc = nn.Linear(7*7*32, 10)\n",
        "        \n",
        "    def forward(self, x):\n",
        "        out = self.layer1(x)\n",
        "        out = self.layer2(out)\n",
        "        out = out.view(out.size(0), -1)\n",
        "        out = self.fc(out)\n",
        "        return out\n",
        "        \n",
        "cnn = CNN()\n",
        "cnn.cuda() # for GPU"
      ],
      "execution_count": 6,
      "outputs": [
        {
          "output_type": "execute_result",
          "data": {
            "text/plain": [
              "CNN(\n",
              "  (layer1): Sequential(\n",
              "    (0): Conv2d (1, 16, kernel_size=(5, 5), stride=(1, 1), padding=(2, 2))\n",
              "    (1): BatchNorm2d(16, eps=1e-05, momentum=0.1, affine=True)\n",
              "    (2): ReLU()\n",
              "    (3): MaxPool2d(kernel_size=(2, 2), stride=(2, 2), dilation=(1, 1))\n",
              "  )\n",
              "  (layer2): Sequential(\n",
              "    (0): Conv2d (16, 32, kernel_size=(5, 5), stride=(1, 1), padding=(2, 2))\n",
              "    (1): BatchNorm2d(32, eps=1e-05, momentum=0.1, affine=True)\n",
              "    (2): ReLU()\n",
              "    (3): MaxPool2d(kernel_size=(2, 2), stride=(2, 2), dilation=(1, 1))\n",
              "  )\n",
              "  (fc): Linear(in_features=1568, out_features=10)\n",
              ")"
            ]
          },
          "metadata": {
            "tags": []
          },
          "execution_count": 6
        }
      ]
    },
    {
      "metadata": {
        "id": "FxsE069wa1Y6",
        "colab_type": "text"
      },
      "cell_type": "markdown",
      "source": [
        "## Using Adam Optimizer and Cross Entropy as loss"
      ]
    },
    {
      "metadata": {
        "id": "PwCyfOhza9P_",
        "colab_type": "code",
        "colab": {
          "autoexec": {
            "startup": false,
            "wait_interval": 0
          }
        }
      },
      "cell_type": "code",
      "source": [
        "criterion = nn.CrossEntropyLoss()\n",
        "optimizer = torch.optim.Adam(cnn.parameters(), lr=learning_rate)"
      ],
      "execution_count": 0,
      "outputs": []
    },
    {
      "metadata": {
        "id": "D1q_lYbAbB5t",
        "colab_type": "text"
      },
      "cell_type": "markdown",
      "source": [
        "## Training the model"
      ]
    },
    {
      "metadata": {
        "id": "rS2IDwV_bG67",
        "colab_type": "code",
        "colab": {
          "autoexec": {
            "startup": false,
            "wait_interval": 0
          },
          "output_extras": [
            {
              "item_id": 30
            }
          ],
          "base_uri": "https://localhost:8080/",
          "height": 527
        },
        "outputId": "3236f15f-207a-40cf-b6a0-330f69f7c130",
        "executionInfo": {
          "status": "ok",
          "timestamp": 1518546513185,
          "user_tz": -60,
          "elapsed": 27342,
          "user": {
            "displayName": "Rohan Chaudhari",
            "photoUrl": "//lh6.googleusercontent.com/-bFFuvJVjYYo/AAAAAAAAAAI/AAAAAAAAK00/9-yuXaJQQBM/s50-c-k-no/photo.jpg",
            "userId": "101580298218468195397"
          }
        }
      },
      "cell_type": "code",
      "source": [
        "for epoch in range(num_epochs):\n",
        "    for i, (images, labels) in enumerate(train_loader):\n",
        "        images = Variable(images).cuda()\n",
        "        labels = Variable(labels).cuda()\n",
        "        \n",
        "        # Forward + Backward + Optimize\n",
        "        optimizer.zero_grad()\n",
        "        outputs = cnn(images)\n",
        "        loss = criterion(outputs, labels)\n",
        "        loss.backward()\n",
        "        optimizer.step()\n",
        "        \n",
        "        if (i+1) % 100 == 0:\n",
        "            print ('Epoch [%d/%d], Iter [%d/%d] Loss: %.4f' \n",
        "                   %(epoch+1, num_epochs, i+1, len(train_dataset)//batch_size, loss.data[0]))\n"
      ],
      "execution_count": 8,
      "outputs": [
        {
          "output_type": "stream",
          "text": [
            "Epoch [1/5], Iter [100/600] Loss: 0.1519\n",
            "Epoch [1/5], Iter [200/600] Loss: 0.1679\n",
            "Epoch [1/5], Iter [300/600] Loss: 0.1017\n",
            "Epoch [1/5], Iter [400/600] Loss: 0.0830\n",
            "Epoch [1/5], Iter [500/600] Loss: 0.0329\n",
            "Epoch [1/5], Iter [600/600] Loss: 0.1092\n",
            "Epoch [2/5], Iter [100/600] Loss: 0.0593\n",
            "Epoch [2/5], Iter [200/600] Loss: 0.0184\n",
            "Epoch [2/5], Iter [300/600] Loss: 0.0410\n",
            "Epoch [2/5], Iter [400/600] Loss: 0.0403\n",
            "Epoch [2/5], Iter [500/600] Loss: 0.0151\n",
            "Epoch [2/5], Iter [600/600] Loss: 0.0587\n",
            "Epoch [3/5], Iter [100/600] Loss: 0.0178\n",
            "Epoch [3/5], Iter [200/600] Loss: 0.0134\n",
            "Epoch [3/5], Iter [300/600] Loss: 0.0063\n",
            "Epoch [3/5], Iter [400/600] Loss: 0.0545\n",
            "Epoch [3/5], Iter [500/600] Loss: 0.0036\n",
            "Epoch [3/5], Iter [600/600] Loss: 0.0886\n",
            "Epoch [4/5], Iter [100/600] Loss: 0.0052\n",
            "Epoch [4/5], Iter [200/600] Loss: 0.0606\n",
            "Epoch [4/5], Iter [300/600] Loss: 0.0305\n",
            "Epoch [4/5], Iter [400/600] Loss: 0.0761\n",
            "Epoch [4/5], Iter [500/600] Loss: 0.0304\n",
            "Epoch [4/5], Iter [600/600] Loss: 0.0149\n",
            "Epoch [5/5], Iter [100/600] Loss: 0.0026\n",
            "Epoch [5/5], Iter [200/600] Loss: 0.0475\n",
            "Epoch [5/5], Iter [300/600] Loss: 0.0267\n",
            "Epoch [5/5], Iter [400/600] Loss: 0.0273\n",
            "Epoch [5/5], Iter [500/600] Loss: 0.0286\n",
            "Epoch [5/5], Iter [600/600] Loss: 0.0064\n"
          ],
          "name": "stdout"
        }
      ]
    },
    {
      "metadata": {
        "id": "IuzNCBWObT5X",
        "colab_type": "text"
      },
      "cell_type": "markdown",
      "source": [
        "## Testing the model"
      ]
    },
    {
      "metadata": {
        "id": "-1Pb33xgbbOR",
        "colab_type": "code",
        "colab": {
          "autoexec": {
            "startup": false,
            "wait_interval": 0
          },
          "output_extras": [
            {
              "item_id": 1
            }
          ],
          "base_uri": "https://localhost:8080/",
          "height": 34
        },
        "outputId": "63692af0-ce80-4b39-8a8e-378e9613e511",
        "executionInfo": {
          "status": "ok",
          "timestamp": 1518546617680,
          "user_tz": -60,
          "elapsed": 1325,
          "user": {
            "displayName": "Rohan Chaudhari",
            "photoUrl": "//lh6.googleusercontent.com/-bFFuvJVjYYo/AAAAAAAAAAI/AAAAAAAAK00/9-yuXaJQQBM/s50-c-k-no/photo.jpg",
            "userId": "101580298218468195397"
          }
        }
      },
      "cell_type": "code",
      "source": [
        "cnn.eval()   \n",
        "correct = 0\n",
        "total = 0\n",
        "for images, labels in test_loader:\n",
        "    images = Variable(images).cuda()\n",
        "    outputs = cnn(images)\n",
        "    _, predicted = torch.max(outputs.data, 1)\n",
        "    total += labels.size(0)\n",
        "    correct += (predicted.cpu() == labels).sum()\n",
        "    \n",
        "print('Test Accuracy of the model on the 10000 test images: %d %%' % (100 * correct / total))"
      ],
      "execution_count": 10,
      "outputs": [
        {
          "output_type": "stream",
          "text": [
            "Test Accuracy of the model on the 10000 test images: 98 %\n"
          ],
          "name": "stdout"
        }
      ]
    }
  ]
}