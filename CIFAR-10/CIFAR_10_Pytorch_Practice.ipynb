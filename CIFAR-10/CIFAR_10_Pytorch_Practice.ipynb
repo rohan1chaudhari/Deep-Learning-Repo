{
  "nbformat": 4,
  "nbformat_minor": 0,
  "metadata": {
    "colab": {
      "name": "CIFAR-10 Pytorch Practice",
      "views": {},
      "default_view": {},
      "provenance": [],
      "collapsed_sections": []
    },
    "kernelspec": {
      "name": "python3",
      "display_name": "Python 3"
    }
  },
  "cells": [
    {
      "metadata": {
        "id": "qPtRszmguJnm",
        "colab_type": "text"
      },
      "cell_type": "markdown",
      "source": [
        "##Pytorch Installation"
      ]
    },
    {
      "metadata": {
        "id": "-A2wH1T-eRc5",
        "colab_type": "code",
        "colab": {
          "autoexec": {
            "startup": false,
            "wait_interval": 0
          },
          "output_extras": [
            {
              "item_id": 1
            }
          ],
          "base_uri": "https://localhost:8080/",
          "height": 68
        },
        "outputId": "fe621364-5113-4fd6-ceab-38d83f982d55",
        "executionInfo": {
          "status": "ok",
          "timestamp": 1518530768950,
          "user_tz": -60,
          "elapsed": 6387,
          "user": {
            "displayName": "Rohan Chaudhari",
            "photoUrl": "//lh6.googleusercontent.com/-bFFuvJVjYYo/AAAAAAAAAAI/AAAAAAAAK00/9-yuXaJQQBM/s50-c-k-no/photo.jpg",
            "userId": "101580298218468195397"
          }
        }
      },
      "cell_type": "code",
      "source": [
        "!pip3 install http://download.pytorch.org/whl/cu80/torch-0.3.0.post4-cp36-cp36m-linux_x86_64.whl "
      ],
      "execution_count": 4,
      "outputs": [
        {
          "output_type": "stream",
          "text": [
            "Requirement already satisfied: torch==0.3.0.post4 from http://download.pytorch.org/whl/cu80/torch-0.3.0.post4-cp36-cp36m-linux_x86_64.whl in /usr/local/lib/python3.6/dist-packages\r\n",
            "Requirement already satisfied: numpy in /usr/local/lib/python3.6/dist-packages (from torch==0.3.0.post4)\r\n",
            "Requirement already satisfied: pyyaml in /usr/local/lib/python3.6/dist-packages (from torch==0.3.0.post4)\r\n"
          ],
          "name": "stdout"
        }
      ]
    },
    {
      "metadata": {
        "id": "vE_7F5LSfItD",
        "colab_type": "code",
        "colab": {
          "autoexec": {
            "startup": false,
            "wait_interval": 0
          },
          "output_extras": [
            {
              "item_id": 12
            }
          ],
          "base_uri": "https://localhost:8080/",
          "height": 272
        },
        "outputId": "3caffc41-9342-4fc1-c48f-2c1d1ff4ed85",
        "executionInfo": {
          "status": "ok",
          "timestamp": 1518530780076,
          "user_tz": -60,
          "elapsed": 6840,
          "user": {
            "displayName": "Rohan Chaudhari",
            "photoUrl": "//lh6.googleusercontent.com/-bFFuvJVjYYo/AAAAAAAAAAI/AAAAAAAAK00/9-yuXaJQQBM/s50-c-k-no/photo.jpg",
            "userId": "101580298218468195397"
          }
        }
      },
      "cell_type": "code",
      "source": [
        "!pip3 install torchvision"
      ],
      "execution_count": 5,
      "outputs": [
        {
          "output_type": "stream",
          "text": [
            "Collecting torchvision\n",
            "  Downloading torchvision-0.2.0-py2.py3-none-any.whl (48kB)\n",
            "\u001b[K    100% |████████████████████████████████| 51kB 1.6MB/s \n",
            "\u001b[?25hRequirement already satisfied: torch in /usr/local/lib/python3.6/dist-packages (from torchvision)\n",
            "Requirement already satisfied: six in /usr/local/lib/python3.6/dist-packages (from torchvision)\n",
            "Collecting pillow>=4.1.1 (from torchvision)\n",
            "  Downloading Pillow-5.0.0-cp36-cp36m-manylinux1_x86_64.whl (5.9MB)\n",
            "\u001b[K    100% |████████████████████████████████| 5.9MB 198kB/s \n",
            "\u001b[?25hRequirement already satisfied: numpy in /usr/local/lib/python3.6/dist-packages (from torchvision)\n",
            "Requirement already satisfied: pyyaml in /usr/local/lib/python3.6/dist-packages (from torch->torchvision)\n",
            "Installing collected packages: pillow, torchvision\n",
            "  Found existing installation: Pillow 4.0.0\n",
            "    Uninstalling Pillow-4.0.0:\n",
            "      Successfully uninstalled Pillow-4.0.0\n",
            "Successfully installed pillow-5.0.0 torchvision-0.2.0\n"
          ],
          "name": "stdout"
        }
      ]
    },
    {
      "metadata": {
        "id": "4_56tibkfUba",
        "colab_type": "text"
      },
      "cell_type": "markdown",
      "source": [
        "# First Image classification using Pytorch"
      ]
    },
    {
      "metadata": {
        "id": "JYMX966_fk08",
        "colab_type": "text"
      },
      "cell_type": "markdown",
      "source": [
        "##Imports\n",
        "\n"
      ]
    },
    {
      "metadata": {
        "id": "c9YrOeclfcDI",
        "colab_type": "code",
        "colab": {
          "autoexec": {
            "startup": false,
            "wait_interval": 0
          }
        }
      },
      "cell_type": "code",
      "source": [
        "import torch\n",
        "import torchvision\n",
        "import torchvision.transforms as transforms"
      ],
      "execution_count": 0,
      "outputs": []
    },
    {
      "metadata": {
        "id": "B22LO7lafuSu",
        "colab_type": "text"
      },
      "cell_type": "markdown",
      "source": [
        " The output of torchvision datasets are PILImage images of range [0, 1].\n",
        " We transform them to Tensors of normalized range [-1, 1]."
      ]
    },
    {
      "metadata": {
        "id": "vuikjHrqftiN",
        "colab_type": "code",
        "colab": {
          "autoexec": {
            "startup": false,
            "wait_interval": 0
          }
        }
      },
      "cell_type": "code",
      "source": [
        "\n",
        "transform = transforms.Compose(\n",
        "    [transforms.ToTensor(),\n",
        "     transforms.Normalize((0.5, 0.5, 0.5), (0.5, 0.5, 0.5))])\n",
        "\n",
        "trainset = torchvision.datasets.CIFAR10(root='./data', train=True,\n",
        "                                        download=True, transform=transform)\n",
        "trainloader = torch.utils.data.DataLoader(trainset, batch_size=4,\n",
        "                                          shuffle=True, num_workers=2)\n",
        "\n",
        "testset = torchvision.datasets.CIFAR10(root='./data', train=False,\n",
        "                                       download=True, transform=transform)\n",
        "testloader = torch.utils.data.DataLoader(testset, batch_size=4,\n",
        "                                         shuffle=False, num_workers=2)\n",
        "\n",
        "classes = ('plane', 'car', 'bird', 'cat',\n",
        "           'deer', 'dog', 'frog', 'horse', 'ship', 'truck')\n"
      ],
      "execution_count": 0,
      "outputs": []
    },
    {
      "metadata": {
        "id": "3bPb_T1Vq6Fl",
        "colab_type": "text"
      },
      "cell_type": "markdown",
      "source": [
        "## Output some training images"
      ]
    },
    {
      "metadata": {
        "id": "BDwH779JrHSU",
        "colab_type": "code",
        "colab": {
          "autoexec": {
            "startup": false,
            "wait_interval": 0
          },
          "output_extras": [
            {
              "item_id": 1
            },
            {
              "item_id": 2
            }
          ],
          "base_uri": "https://localhost:8080/",
          "height": 184
        },
        "outputId": "cdfafbe3-0480-4837-93c5-6b726069c270",
        "executionInfo": {
          "status": "ok",
          "timestamp": 1518533906096,
          "user_tz": -60,
          "elapsed": 581,
          "user": {
            "displayName": "Rohan Chaudhari",
            "photoUrl": "//lh6.googleusercontent.com/-bFFuvJVjYYo/AAAAAAAAAAI/AAAAAAAAK00/9-yuXaJQQBM/s50-c-k-no/photo.jpg",
            "userId": "101580298218468195397"
          }
        }
      },
      "cell_type": "code",
      "source": [
        "import matplotlib.pyplot as plt\n",
        "import numpy as np\n",
        "\n",
        "# functions to show an image\n",
        "\n",
        "\n",
        "def imshow(img):\n",
        "    img = img / 2 + 0.5     # unnormalize\n",
        "    npimg = img.numpy()\n",
        "    plt.imshow(np.transpose(npimg, (1, 2, 0)))\n",
        "\n",
        "\n",
        "# get some random training images\n",
        "dataiter = iter(trainloader)\n",
        "images, labels = dataiter.next()\n",
        "\n",
        "# show images\n",
        "imshow(torchvision.utils.make_grid(images))\n",
        "# print labels\n",
        "print(' '.join('%5s' % classes[labels[j]] for j in range(4)))"
      ],
      "execution_count": 8,
      "outputs": [
        {
          "output_type": "stream",
          "text": [
            "  dog   dog  ship horse\n"
          ],
          "name": "stdout"
        },
        {
          "output_type": "display_data",
          "data": {
            "image/png": "[encoded data removed]",
            "text/plain": [
              "<matplotlib.figure.Figure at 0x7f70a9fed4e0>"
            ]
          },
          "metadata": {
            "tags": []
          }
        }
      ]
    },
    {
      "metadata": {
        "id": "nRfMuM0ar-P9",
        "colab_type": "text"
      },
      "cell_type": "markdown",
      "source": [
        "##Configuring my Neural Network\n",
        "\n",
        "*   2 Convolutional layers\n",
        "*   2 MaxPool layers\n",
        "\n"
      ]
    },
    {
      "metadata": {
        "id": "XFO-EDwXr9ON",
        "colab_type": "code",
        "colab": {
          "autoexec": {
            "startup": false,
            "wait_interval": 0
          }
        }
      },
      "cell_type": "code",
      "source": [
        "from torch.autograd import Variable\n",
        "import torch.nn as nn\n",
        "import torch.nn.functional as F\n",
        "\n",
        "\n",
        "class Net(nn.Module):\n",
        "    def __init__(self):\n",
        "        super(Net, self).__init__()\n",
        "        self.conv1 = nn.Conv2d(3, 6, 5)\n",
        "        self.pool = nn.MaxPool2d(2, 2)\n",
        "        self.conv2 = nn.Conv2d(6, 16, 5)\n",
        "        self.fc1 = nn.Linear(16 * 5 * 5, 120)\n",
        "        self.fc2 = nn.Linear(120, 84)\n",
        "        self.fc3 = nn.Linear(84, 10)\n",
        "\n",
        "    def forward(self, x):\n",
        "        x = self.pool(F.relu(self.conv1(x)))\n",
        "        x = self.pool(F.relu(self.conv2(x)))\n",
        "        x = x.view(-1, 16 * 5 * 5)\n",
        "        x = F.relu(self.fc1(x))\n",
        "        x = F.relu(self.fc2(x))\n",
        "        x = self.fc3(x)\n",
        "        return x\n",
        "\n",
        "\n",
        "net = Net()"
      ],
      "execution_count": 0,
      "outputs": []
    },
    {
      "metadata": {
        "id": "LXqj4oWmsL8W",
        "colab_type": "text"
      },
      "cell_type": "markdown",
      "source": [
        "## Loss  function definition"
      ]
    },
    {
      "metadata": {
        "id": "PTYUEQ3TsKq4",
        "colab_type": "code",
        "colab": {
          "autoexec": {
            "startup": false,
            "wait_interval": 0
          }
        }
      },
      "cell_type": "code",
      "source": [
        "import torch.optim as optim\n",
        "\n",
        "criterion = nn.CrossEntropyLoss()\n",
        "optimizer = optim.SGD(net.parameters(), lr=0.001, momentum=0.9)"
      ],
      "execution_count": 0,
      "outputs": []
    },
    {
      "metadata": {
        "id": "TAFGxTNWs1Ss",
        "colab_type": "text"
      },
      "cell_type": "markdown",
      "source": [
        "## Training"
      ]
    },
    {
      "metadata": {
        "id": "yh1JLj_0s0T2",
        "colab_type": "code",
        "colab": {
          "autoexec": {
            "startup": false,
            "wait_interval": 0
          },
          "output_extras": [
            {
              "item_id": 13
            }
          ],
          "base_uri": "https://localhost:8080/",
          "height": 238
        },
        "outputId": "d2ee06a2-50a4-4110-b2fe-c2c538d576fb",
        "executionInfo": {
          "status": "ok",
          "timestamp": 1518534508190,
          "user_tz": -60,
          "elapsed": 117265,
          "user": {
            "displayName": "Rohan Chaudhari",
            "photoUrl": "//lh6.googleusercontent.com/-bFFuvJVjYYo/AAAAAAAAAAI/AAAAAAAAK00/9-yuXaJQQBM/s50-c-k-no/photo.jpg",
            "userId": "101580298218468195397"
          }
        }
      },
      "cell_type": "code",
      "source": [
        "for epoch in range(2):  # loop over the dataset multiple times\n",
        "\n",
        "    running_loss = 0.0\n",
        "    for i, data in enumerate(trainloader, 0):\n",
        "        # get the inputs\n",
        "        inputs, labels = data\n",
        "\n",
        "        # wrap them in Variable\n",
        "        inputs, labels = Variable(inputs), Variable(labels)\n",
        "\n",
        "        # zero the parameter gradients\n",
        "        optimizer.zero_grad()\n",
        "\n",
        "        # forward + backward + optimize\n",
        "        outputs = net(inputs)\n",
        "        loss = criterion(outputs, labels)\n",
        "        loss.backward()\n",
        "        optimizer.step()\n",
        "\n",
        "        # print statistics\n",
        "        running_loss += loss.data[0]\n",
        "        if i % 2000 == 1999:    # print every 2000 mini-batches\n",
        "            print('[%d, %5d] loss: %.3f' %\n",
        "                  (epoch + 1, i + 1, running_loss / 2000))\n",
        "            running_loss = 0.0\n",
        "\n",
        "print('Finished Training')"
      ],
      "execution_count": 16,
      "outputs": [
        {
          "output_type": "stream",
          "text": [
            "[1,  2000] loss: 2.209\n",
            "[1,  4000] loss: 1.877\n",
            "[1,  6000] loss: 1.719\n",
            "[1,  8000] loss: 1.607\n",
            "[1, 10000] loss: 1.559\n",
            "[1, 12000] loss: 1.506\n",
            "[2,  2000] loss: 1.438\n",
            "[2,  4000] loss: 1.388\n",
            "[2,  6000] loss: 1.393\n",
            "[2,  8000] loss: 1.355\n",
            "[2, 10000] loss: 1.337\n",
            "[2, 12000] loss: 1.314\n",
            "Finished Training\n"
          ],
          "name": "stdout"
        }
      ]
    },
    {
      "metadata": {
        "id": "We9vbw2JtEju",
        "colab_type": "text"
      },
      "cell_type": "markdown",
      "source": [
        "## Trying the network on test data."
      ]
    },
    {
      "metadata": {
        "id": "T6z54zkCtDmU",
        "colab_type": "code",
        "colab": {
          "autoexec": {
            "startup": false,
            "wait_interval": 0
          },
          "output_extras": [
            {
              "item_id": 1
            },
            {
              "item_id": 2
            }
          ],
          "base_uri": "https://localhost:8080/",
          "height": 184
        },
        "outputId": "b9378b2b-8cc7-49f4-d31d-ea87d45ffef9",
        "executionInfo": {
          "status": "ok",
          "timestamp": 1518534588472,
          "user_tz": -60,
          "elapsed": 849,
          "user": {
            "displayName": "Rohan Chaudhari",
            "photoUrl": "//lh6.googleusercontent.com/-bFFuvJVjYYo/AAAAAAAAAAI/AAAAAAAAK00/9-yuXaJQQBM/s50-c-k-no/photo.jpg",
            "userId": "101580298218468195397"
          }
        }
      },
      "cell_type": "code",
      "source": [
        "dataiter = iter(testloader)\n",
        "images, labels = dataiter.next()\n",
        "\n",
        "# print images\n",
        "imshow(torchvision.utils.make_grid(images))\n",
        "print('GroundTruth: ', ' '.join('%5s' % classes[labels[j]] for j in range(4)))"
      ],
      "execution_count": 21,
      "outputs": [
        {
          "output_type": "stream",
          "text": [
            "GroundTruth:    cat  ship  ship plane\n"
          ],
          "name": "stdout"
        },
        {
          "output_type": "display_data",
          "data": {
            "image/png": "[encoded data removed]",
            "text/plain": [
              "<matplotlib.figure.Figure at 0x7f70a77910f0>"
            ]
          },
          "metadata": {
            "tags": []
          }
        }
      ]
    },
    {
      "metadata": {
        "id": "IkYRpYtutji5",
        "colab_type": "code",
        "colab": {
          "autoexec": {
            "startup": false,
            "wait_interval": 0
          },
          "output_extras": [
            {
              "item_id": 1
            }
          ],
          "base_uri": "https://localhost:8080/",
          "height": 34
        },
        "outputId": "ee584c88-b289-4220-e90a-6a8ba8cffef1",
        "executionInfo": {
          "status": "ok",
          "timestamp": 1518534602309,
          "user_tz": -60,
          "elapsed": 523,
          "user": {
            "displayName": "Rohan Chaudhari",
            "photoUrl": "//lh6.googleusercontent.com/-bFFuvJVjYYo/AAAAAAAAAAI/AAAAAAAAK00/9-yuXaJQQBM/s50-c-k-no/photo.jpg",
            "userId": "101580298218468195397"
          }
        }
      },
      "cell_type": "code",
      "source": [
        "outputs = net(Variable(images))\n",
        "\n",
        "_, predicted = torch.max(outputs.data, 1)\n",
        "\n",
        "print('Predicted: ', ' '.join('%5s' % classes[predicted[j]]\n",
        "                              for j in range(4)))"
      ],
      "execution_count": 23,
      "outputs": [
        {
          "output_type": "stream",
          "text": [
            "Predicted:    cat  ship   car plane\n"
          ],
          "name": "stdout"
        }
      ]
    },
    {
      "metadata": {
        "id": "nFYkwjqjt-DM",
        "colab_type": "text"
      },
      "cell_type": "markdown",
      "source": [
        "## Testing over whole dataset"
      ]
    },
    {
      "metadata": {
        "id": "xSlrgaYAuCJ-",
        "colab_type": "code",
        "colab": {
          "autoexec": {
            "startup": false,
            "wait_interval": 0
          },
          "output_extras": [
            {
              "item_id": 1
            }
          ],
          "base_uri": "https://localhost:8080/",
          "height": 34
        },
        "outputId": "c77e371c-fba5-46be-99ff-df9302445b97",
        "executionInfo": {
          "status": "ok",
          "timestamp": 1518534676892,
          "user_tz": -60,
          "elapsed": 6973,
          "user": {
            "displayName": "Rohan Chaudhari",
            "photoUrl": "//lh6.googleusercontent.com/-bFFuvJVjYYo/AAAAAAAAAAI/AAAAAAAAK00/9-yuXaJQQBM/s50-c-k-no/photo.jpg",
            "userId": "101580298218468195397"
          }
        }
      },
      "cell_type": "code",
      "source": [
        "correct = 0\n",
        "total = 0\n",
        "for data in testloader:\n",
        "    images, labels = data\n",
        "    outputs = net(Variable(images))\n",
        "    _, predicted = torch.max(outputs.data, 1)\n",
        "    total += labels.size(0)\n",
        "    correct += (predicted == labels).sum()\n",
        "\n",
        "print('Accuracy of the network on the 10000 test images: %d %%' % (\n",
        "    100 * correct / total))"
      ],
      "execution_count": 24,
      "outputs": [
        {
          "output_type": "stream",
          "text": [
            "Accuracy of the network on the 10000 test images: 52 %\n"
          ],
          "name": "stdout"
        }
      ]
    },
    {
      "metadata": {
        "id": "NcmNIrhluZuL",
        "colab_type": "text"
      },
      "cell_type": "markdown",
      "source": [
        "## Classwise accuracy"
      ]
    },
    {
      "metadata": {
        "id": "Ni4TlyHxud31",
        "colab_type": "code",
        "colab": {
          "autoexec": {
            "startup": false,
            "wait_interval": 0
          },
          "output_extras": [
            {
              "item_id": 1
            }
          ],
          "base_uri": "https://localhost:8080/",
          "height": 187
        },
        "outputId": "bd840aaf-d110-499d-89d7-56c672d0493a",
        "executionInfo": {
          "status": "ok",
          "timestamp": 1518534787393,
          "user_tz": -60,
          "elapsed": 6513,
          "user": {
            "displayName": "Rohan Chaudhari",
            "photoUrl": "//lh6.googleusercontent.com/-bFFuvJVjYYo/AAAAAAAAAAI/AAAAAAAAK00/9-yuXaJQQBM/s50-c-k-no/photo.jpg",
            "userId": "101580298218468195397"
          }
        }
      },
      "cell_type": "code",
      "source": [
        "class_correct = list(0. for i in range(10))\n",
        "class_total = list(0. for i in range(10))\n",
        "for data in testloader:\n",
        "    images, labels = data\n",
        "    outputs = net(Variable(images))\n",
        "    _, predicted = torch.max(outputs.data, 1)\n",
        "    c = (predicted == labels).squeeze()\n",
        "    for i in range(4):\n",
        "        label = labels[i]\n",
        "        class_correct[label] += c[i]\n",
        "        class_total[label] += 1\n",
        "\n",
        "\n",
        "for i in range(10):\n",
        "    print('Accuracy of %5s : %2d %%' % (\n",
        "        classes[i], 100 * class_correct[i] / class_total[i]))"
      ],
      "execution_count": 25,
      "outputs": [
        {
          "output_type": "stream",
          "text": [
            "Accuracy of plane : 62 %\n",
            "Accuracy of   car : 58 %\n",
            "Accuracy of  bird : 34 %\n",
            "Accuracy of   cat : 25 %\n",
            "Accuracy of  deer : 52 %\n",
            "Accuracy of   dog : 52 %\n",
            "Accuracy of  frog : 48 %\n",
            "Accuracy of horse : 69 %\n",
            "Accuracy of  ship : 73 %\n",
            "Accuracy of truck : 50 %\n"
          ],
          "name": "stdout"
        }
      ]
    }
  ]
}